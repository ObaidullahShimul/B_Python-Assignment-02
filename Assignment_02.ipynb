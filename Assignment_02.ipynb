{
  "nbformat": 4,
  "nbformat_minor": 0,
  "metadata": {
    "colab": {
      "provenance": []
    },
    "kernelspec": {
      "name": "python3",
      "display_name": "Python 3"
    },
    "language_info": {
      "name": "python"
    }
  },
  "cells": [
    {
      "cell_type": "code",
      "execution_count": null,
      "metadata": {
        "id": "kfqr-ov8Ogbs"
      },
      "outputs": [],
      "source": [
        "#1. Write a program that swaps the values of two variables.\n",
        "\n",
        "no1=input(\"Enter your First Number: \")\n",
        "no2=input(\"Enter your Second Number: \")\n",
        "\n",
        "temp=no1\n",
        "no1=no2\n",
        "no2=temp\n",
        "\n",
        "print(f'Value of User No1 After Swapping {no1}')\n",
        "print(f'Value of User No2 After Swapping {no2}')\n"
      ]
    },
    {
      "cell_type": "code",
      "source": [
        "#2. Write a program that calculates the area of a rectangle given its length and width.\n",
        "\n",
        "length = float(input('Enter Length of the Rectangle: '))\n",
        "breath = float(input('Enter Breadth of the Rectangle: '))\n",
        "\n",
        "area = length * breath1\n",
        "\n",
        "print(f\"Area of rectangle is {area:.2f}\")\n"
      ],
      "metadata": {
        "id": "KQR3Xf5KRTZY"
      },
      "execution_count": null,
      "outputs": []
    },
    {
      "cell_type": "code",
      "source": [
        "#3. Write a program that converts temperature from Fahrenheit to Celsius.\n",
        "\n",
        "a=float(input(\"Enter the value of temperature\"))\n",
        "str1=input(\"Enter the unit of temperature either in f or c\")\n",
        "\n",
        "if(str1=='f'):\n",
        "  print(5/9*(a-32))\n",
        "if(str1=='c'):\n",
        "  print((9/5*a)+32)"
      ],
      "metadata": {
        "colab": {
          "base_uri": "https://localhost:8080/"
        },
        "id": "rdMlea4sSAOk",
        "outputId": "8b3cb9d1-a38d-4845-83e1-11013fd27adc"
      },
      "execution_count": null,
      "outputs": [
        {
          "output_type": "stream",
          "name": "stdout",
          "text": [
            "Enter the value of temperature34\n",
            "Enter the unit of temperature either in f or cc\n",
            "93.2\n"
          ]
        }
      ]
    },
    {
      "cell_type": "code",
      "source": [
        "#4. Write a program that calculates the volume of a sphere given its radius.\n",
        "from math import pi\n",
        "\n",
        "r = 6.0;\n",
        "v =4/3*pi*r**3\n",
        "print(v)"
      ],
      "metadata": {
        "colab": {
          "base_uri": "https://localhost:8080/"
        },
        "id": "NN9FxAePT7aI",
        "outputId": "dac09f8f-8b5d-4456-cc82-592db911f6dd"
      },
      "execution_count": null,
      "outputs": [
        {
          "output_type": "stream",
          "name": "stdout",
          "text": [
            "904.7786842338603\n"
          ]
        }
      ]
    },
    {
      "cell_type": "code",
      "source": [
        "#5. Write a program that finds the average of three numbers.\n",
        "no1=int(input(\"Enter your First Number: \"))\n",
        "no2=int(input(\"Enter your Second Number: \"))\n",
        "no3=int(input(\"Enter your Third Number: \"))\n",
        "\n",
        "avg=(no1+no2+no3)/3\n",
        "\n",
        "print('Average: ',int(avg))\n"
      ],
      "metadata": {
        "colab": {
          "base_uri": "https://localhost:8080/"
        },
        "id": "A5tsYKEVUtLy",
        "outputId": "8e645307-5498-4c10-b0a3-d47a116f614a"
      },
      "execution_count": null,
      "outputs": [
        {
          "output_type": "stream",
          "name": "stdout",
          "text": [
            "Enter your First Number: 5\n",
            "Enter your Second Number: 6\n",
            "Enter your Third Number: 4\n",
            "Average:  5\n"
          ]
        }
      ]
    },
    {
      "cell_type": "code",
      "source": [
        "#6. Write a program that determines if a number is even or odd.\n",
        "\n",
        "def check_Even_Odd(no):\n",
        "  if no%2==0:\n",
        "    return True\n",
        "  else:\n",
        "    return False\n",
        "\n",
        "\n",
        "check_Even_Odd(66)"
      ],
      "metadata": {
        "colab": {
          "base_uri": "https://localhost:8080/"
        },
        "id": "_3AbM93RWi-2",
        "outputId": "534be7e6-081d-4855-b8b3-d8f839aceaf1"
      },
      "execution_count": null,
      "outputs": [
        {
          "output_type": "execute_result",
          "data": {
            "text/plain": [
              "True"
            ]
          },
          "metadata": {},
          "execution_count": 15
        }
      ]
    },
    {
      "cell_type": "code",
      "source": [
        "#7. Write a program that finds the maximum of three numbers.\n",
        "no1=int(input(\"Enter your First Number: \"))\n",
        "no2=int(input(\"Enter your Second Number: \"))\n",
        "no3=int(input(\"Enter your Third Number: \"))\n",
        "\n",
        "if no1>no2 and no1>=no3:\n",
        "    print(\" Maximum number is: \",no1)\n",
        "elif no2>no1 and no2>=no3:\n",
        "    print(\"Maximum number is: \",no2)\n",
        "else:\n",
        "    print(\"Maximum number is: \",no3)\n"
      ],
      "metadata": {
        "colab": {
          "base_uri": "https://localhost:8080/"
        },
        "id": "LIx2vx-KXKQ7",
        "outputId": "ba1f287d-050c-4352-b6d8-201ab55706e1"
      },
      "execution_count": null,
      "outputs": [
        {
          "output_type": "stream",
          "name": "stdout",
          "text": [
            "Enter your First Number: 40\n",
            "Enter your Second Number: 41\n",
            "Enter your Third Number: 40\n",
            "Maximum number is:  41\n"
          ]
        }
      ]
    },
    {
      "cell_type": "code",
      "source": [
        "#8. Write a program that determines if a year is a leap year or not.\n",
        "\n",
        "year=int(input(\"Enter a year for chekc leap year or Not: \"))\n",
        "\n",
        "if year>=2000:\n",
        "  if year%400==0 and year %100==0:\n",
        "    print(f' {year} is Leap year')\n",
        "  elif year%4==0 and year%100 !=0:\n",
        "    print(f'{year} is Leap year')\n",
        "  else:\n",
        "    print(f'{year} is NOT Leap year')\n",
        "else:\n",
        "  print(\"Type a year greater than 2000\")"
      ],
      "metadata": {
        "colab": {
          "base_uri": "https://localhost:8080/"
        },
        "id": "3M0lRDcTZYxB",
        "outputId": "fab525d5-fbf6-4a1e-9226-9f5314c81454"
      },
      "execution_count": null,
      "outputs": [
        {
          "output_type": "stream",
          "name": "stdout",
          "text": [
            "Enter a year for chekc leap year or Not: 2000\n",
            " 2000 is Leap year\n"
          ]
        }
      ]
    },
    {
      "cell_type": "code",
      "source": [
        "#9. Write a program that determines if a number is positive, negative, or zero.\n",
        "\n",
        "num = float(input(\"Enter a number for check Positive,Negetive or Zero: \"))\n",
        "if num > 0:\n",
        "   print(\"Entered number is Positive\")\n",
        "elif num == 0:\n",
        "   print(\"Entered number is Zero\")\n",
        "else:\n",
        "   print(\"Entered number is Negative\")"
      ],
      "metadata": {
        "colab": {
          "base_uri": "https://localhost:8080/"
        },
        "id": "j4tGnmiObZzt",
        "outputId": "1372597a-f8df-4202-c7cc-54579d323d15"
      },
      "execution_count": null,
      "outputs": [
        {
          "output_type": "stream",
          "name": "stdout",
          "text": [
            "Enter a number: 0\n",
            "Zero\n"
          ]
        }
      ]
    },
    {
      "cell_type": "code",
      "source": [
        "#10. Write a program that calculates the grade based on a given percentage.\n",
        "\n",
        "print(\"Enter Marks Obtained in 3 Subjects: \")\n",
        "markOne = int(input(\"Obtained marks in BANGLA: \"))\n",
        "markTwo = int(input(\"Obtained marks in ENGLISH: \"))\n",
        "markThree = int(input(\"Obtained marks in MATH: \"))\n",
        "\n",
        "\n",
        "tot = markOne+markTwo+markThree\n",
        "avg = tot/3\n",
        "\n",
        "if avg>=91 and avg<=100:\n",
        "    print(\"Your Grade is A1\")\n",
        "elif avg>=81 and avg<91:\n",
        "    print(\"Your Grade is A2\")\n",
        "elif avg>=71 and avg<81:\n",
        "    print(\"Your Grade is B1\")\n",
        "elif avg>=61 and avg<71:\n",
        "    print(\"Your Grade is B2\")\n",
        "elif avg>=51 and avg<61:\n",
        "    print(\"Your Grade is C1\")\n",
        "elif avg>=41 and avg<51:\n",
        "    print(\"Your Grade is C2\")\n",
        "elif avg>=33 and avg<41:\n",
        "    print(\"Your Grade is D\")\n",
        "elif avg>=21 and avg<33:\n",
        "    print(\"Your Grade is E1\")\n",
        "elif avg>=0 and avg<21:\n",
        "    print(\"Your Grade is E2\")\n",
        "else:\n",
        "    print(\"Invalid Input!\")"
      ],
      "metadata": {
        "id": "XSjd66pXcRyZ"
      },
      "execution_count": null,
      "outputs": []
    },
    {
      "cell_type": "code",
      "source": [
        "#11. Write a program that prints the first `n` natural numbers.\n",
        "\n",
        "start=int(input(\"Enter your start number: \"))\n",
        "end= int(input(\"Enter your End number: \"))\n",
        "\n",
        "if end>start:\n",
        "  for i in range(start, end):\n",
        "    print(i)\n",
        "else:\n",
        "  print(\"Your ending number is less than starting nuber\")"
      ],
      "metadata": {
        "colab": {
          "base_uri": "https://localhost:8080/"
        },
        "id": "ZBzhOMmQd7YH",
        "outputId": "1fecc24f-cad2-4fc0-b69d-28ef0d8f3f63"
      },
      "execution_count": null,
      "outputs": [
        {
          "output_type": "stream",
          "name": "stdout",
          "text": [
            "Enter your start number: 10\n",
            "Enter your End number: 9\n",
            "Your ending number is less than starting nuber\n"
          ]
        }
      ]
    },
    {
      "cell_type": "code",
      "source": [
        "#12. Write a program that calculates the factorial of a number.\n",
        "\n",
        "num=int(input(\"Enter number for Factorial: \"))\n",
        "\n",
        "factorial = 1\n",
        "\n",
        "if num < 0:\n",
        "   print(\"Negetive number factorial does not exit: \")\n",
        "elif num == 0:\n",
        "   print(\"The factorial of 0 is 1\")\n",
        "else:\n",
        "   for i in range(1,num + 1):\n",
        "       factorial = factorial*i\n",
        "   print(\"The factorial of\",num,\"is\",factorial)"
      ],
      "metadata": {
        "id": "hbx1nXDGesXo"
      },
      "execution_count": null,
      "outputs": []
    },
    {
      "cell_type": "code",
      "source": [
        "#13. Write a program that generates a Fibonacci sequence of length `n`.\n",
        "\n",
        "n = 10\n",
        "num1 = 0\n",
        "num2 = 1\n",
        "next_number = num2\n",
        "count = 1\n",
        "\n",
        "while count <= n:\n",
        "    print(next_number, end=\" \")\n",
        "    count += 1\n",
        "    num1, num2 = num2, next_number\n",
        "    next_number = num1 + num2\n",
        "print()"
      ],
      "metadata": {
        "colab": {
          "base_uri": "https://localhost:8080/"
        },
        "id": "lbUGvIS9gube",
        "outputId": "22ce3204-fd10-4288-c0ea-d02f4dab8079"
      },
      "execution_count": null,
      "outputs": [
        {
          "output_type": "stream",
          "name": "stdout",
          "text": [
            "1 2 3 5 8 13 21 34 55 89 \n"
          ]
        }
      ]
    },
    {
      "cell_type": "code",
      "source": [
        "#14. Write a program that checks if a given number is prime or not.\n",
        "num=int(input(\"Enter a number for check Prime: \"))\n",
        "\n",
        "flag = False\n",
        "\n",
        "if num == 1:\n",
        "    print(num, \"is not a prime number\")\n",
        "elif num > 1:\n",
        "    # check for factors\n",
        "    for i in range(2, num):\n",
        "        if (num % i) == 0:\n",
        "            # if factor is found, set flag to True\n",
        "            flag = True\n",
        "            # break out of loop\n",
        "            break\n",
        "\n",
        "    # check if flag is True\n",
        "    if flag:\n",
        "        print(num, \"is not a prime number\")\n",
        "    else:\n",
        "        print(num, \"is a prime number\")"
      ],
      "metadata": {
        "colab": {
          "base_uri": "https://localhost:8080/"
        },
        "id": "qbQXA8Eyh_VZ",
        "outputId": "321d420b-66b3-4916-9e3d-914e6729874c"
      },
      "execution_count": null,
      "outputs": [
        {
          "output_type": "stream",
          "name": "stdout",
          "text": [
            "Enter a number for check Prime or NOT33\n",
            "33 is not a prime number\n"
          ]
        }
      ]
    },
    {
      "cell_type": "code",
      "source": [
        "#15. Write a program that prints the multiplication table of a given number.\n",
        "\n",
        "num=int(input(\"Enter a number for Multiplication: \"))\n",
        "\n",
        "# Iterate 10 times from i = 1 to 10\n",
        "for i in range(1, 11):\n",
        "   print(num, 'x', i, '=', num*i)"
      ],
      "metadata": {
        "id": "CYSbRzYRkias"
      },
      "execution_count": null,
      "outputs": []
    },
    {
      "cell_type": "code",
      "source": [
        "#16. Write a program that finds the sum of all even numbers between 1 and `n`.\n",
        "\n",
        "num=int(input(\"Enter your lenght of Numbers: \"))\n",
        "\n",
        "sum=0\n",
        "\n",
        "\n",
        "i=1\n",
        "while i<=num+1:\n",
        "  if i%2==0:\n",
        "    sum +=i\n",
        "  i+=1\n",
        "\n",
        "print(\"Sum of all even numbers: \",sum)"
      ],
      "metadata": {
        "colab": {
          "base_uri": "https://localhost:8080/"
        },
        "id": "1oZtkiuUTfDX",
        "outputId": "59d215ca-ef38-4556-daab-e266e617ab1e"
      },
      "execution_count": 10,
      "outputs": [
        {
          "output_type": "stream",
          "name": "stdout",
          "text": [
            "Enter your lenght of Numbers: 10\n",
            "Sum of all even numbers:  30\n"
          ]
        }
      ]
    },
    {
      "cell_type": "code",
      "source": [
        "#17. Write a program that reverses a given number.\n",
        "\n",
        "num=int(input(\"Write your number for reverse: \"))\n",
        "\n",
        "reverse_No=0\n",
        "\n",
        "while num!=0:\n",
        "  temp=num%10\n",
        "  reverse_No=reverse_No*10+temp\n",
        "  num//=10\n",
        "\n",
        "print('Your reverse no is: ',reverse_No)\n"
      ],
      "metadata": {
        "id": "5uxG-H3SUeYK"
      },
      "execution_count": null,
      "outputs": []
    },
    {
      "cell_type": "code",
      "source": [
        "#18. Write a program that checks if a given string is a palindrome.\n",
        "\n",
        "userStr=input(\"Write a name check Palindrome or Not: \")\n",
        "\n",
        "\n",
        "def isPalin(name):\n",
        "  if name==name[::-1]:\n",
        "    return \"This is Palindrome Word\"\n",
        "  else:\n",
        "    return \"This is not Palindrome Word\"\n",
        "\n",
        "#name=userStr\n",
        "print(isPalin(userStr))"
      ],
      "metadata": {
        "id": "MpWnkxb-ZKKI"
      },
      "execution_count": null,
      "outputs": []
    },
    {
      "cell_type": "code",
      "source": [
        "#19. Write a program that generates a random number and allows the user to guess it.\n",
        "\n",
        "import random\n",
        "\n",
        "rd=random.randrange(1,10)\n",
        "\n",
        "guessNo=int(input(\"Enter your guess no: \"))\n",
        "\n",
        "while rd!=guessNo:\n",
        "  if rd<guessNo:\n",
        "    print(\"Your number is bigger\")\n",
        "    guessNo=int(input(\"Enter your guess no Again: \"))\n",
        "  elif rd>guessNo:\n",
        "    print(\"Your number is smaller\")\n",
        "    guessNo=int(input(\"Enter your guess no Again: \"))\n",
        "  else:\n",
        "    break\n",
        "print(f\"\\n\\nCongratulations!!\\n{rd}\\nYou guessed it correctly\")\n",
        "\n",
        "#print(rd)"
      ],
      "metadata": {
        "id": "qr0AJyHViQap"
      },
      "execution_count": null,
      "outputs": []
    },
    {
      "cell_type": "code",
      "source": [
        "#20. Write a program that finds the greatest common divisor (GCD) of two numbers.\n",
        "\n",
        "num1 = int(input(\"Enter your first number: \"))\n",
        "num2 = int(input(\"Enter your second number: \"))\n",
        "a = num1\n",
        "b = num2\n",
        "\n",
        "while num1 != num2:\n",
        "    if num1 > num2:\n",
        "        num1 -= num2\n",
        "    else:\n",
        "        num2 -= num1\n",
        "\n",
        "print(\"GCD of\", a, \"and\", b, \"is\", num1)"
      ],
      "metadata": {
        "colab": {
          "base_uri": "https://localhost:8080/"
        },
        "id": "Xc1JtYjNlJoI",
        "outputId": "00b3f222-e67c-44cb-b9c4-18540e378d5c"
      },
      "execution_count": 55,
      "outputs": [
        {
          "output_type": "stream",
          "name": "stdout",
          "text": [
            "Enter your first number: 36\n",
            "Enter your second number: 60\n",
            "GCD of 36 and 60 is 12\n"
          ]
        }
      ]
    }
  ]
}